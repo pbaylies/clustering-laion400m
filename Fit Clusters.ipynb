{
 "cells": [
  {
   "cell_type": "markdown",
   "id": "02f9a3c1",
   "metadata": {},
   "source": [
    "## Fit Clusters\n",
    "* This is a stripped-down version of https://github.com/pbaylies/stylegan2-ada-pytorch/blob/main/categorizer.py\n",
    "* This operates on the prebuilt CLIP ViT-B/32 embeddings from LAION-400m (but should work for image embeddings in general)"
   ]
  },
  {
   "cell_type": "code",
   "execution_count": null,
   "id": "4136fda1",
   "metadata": {},
   "outputs": [],
   "source": [
    "import numpy as np\n",
    "from sklearn.decomposition import PCA\n",
    "from sklearn.decomposition import FastICA\n",
    "import pickle\n",
    "import os"
   ]
  },
  {
   "cell_type": "code",
   "execution_count": null,
   "id": "9299e7f2",
   "metadata": {},
   "outputs": [],
   "source": [
    "ie1 = np.load(\"images/img_emb_0.npy\")"
   ]
  },
  {
   "cell_type": "code",
   "execution_count": null,
   "id": "5a946672",
   "metadata": {},
   "outputs": [],
   "source": [
    "if os.path.isfile(\"pca_model.pkl\"):\n",
    "    pca = pickle.load( open( \"pca_model.pkl\", \"rb\" ) )\n",
    "else:\n",
    "    pca = PCA(n_components=256)\n",
    "    pca.fit(ie1)\n",
    "    pickle.dump( pca, open( \"pca_model.pkl\", \"wb\" ) )\n",
    "pca_features = np.float32(pca.transform(ie1))"
   ]
  },
  {
   "cell_type": "code",
   "execution_count": null,
   "id": "9c8743af",
   "metadata": {},
   "outputs": [],
   "source": [
    "if os.path.isfile(\"pca_model.pkl\"):\n",
    "    ica = pickle.load( open( \"ica_model.pkl\", \"rb\" ) )\n",
    "else:\n",
    "    ica = FastICA(n_components=256, max_iter=1000, tol=2e-4)\n",
    "    ica.fit(ie1)\n",
    "    pickle.dump( ica, open( \"ica_model.pkl\", \"wb\" ) )\n",
    "ica_features = np.float32(ica.transform(ie1))"
   ]
  },
  {
   "cell_type": "code",
   "execution_count": null,
   "id": "be863ddd",
   "metadata": {},
   "outputs": [],
   "source": [
    "more_features = np.concatenate((pca_features, ica_features), axis=1)"
   ]
  },
  {
   "cell_type": "code",
   "execution_count": null,
   "id": "67ee632c",
   "metadata": {},
   "outputs": [],
   "source": [
    "from sklearn.mixture import GaussianMixture\n",
    "if os.path.isfile(\"gmm_model.pkl\"):\n",
    "    gmm = pickle.load( open( \"gmm_model.pkl\", \"rb\" ) )\n",
    "else:\n",
    "    gmm = GaussianMixture(n_components=64, covariance_type='tied', verbose=2, max_iter=200)\n",
    "    gmm.fit(more_features)\n",
    "    pickle.dump( gmm, open( \"gmm_model.pkl\", \"wb\" ) )\n",
    "labels = gmm.predict(more_features)\n",
    "# Note that it's also possible to use predict_proba() to get the probabilities (not calibrated) for *all* the labels:\n",
    "# https://scikit-learn.org/stable/modules/generated/sklearn.mixture.GaussianMixture.html#sklearn.mixture.GaussianMixture.predict_proba\n",
    "np.save(\"labels_0.npy\", labels)"
   ]
  },
  {
   "cell_type": "code",
   "execution_count": null,
   "id": "296c50c9",
   "metadata": {},
   "outputs": [],
   "source": [
    "for n in range(1,410):\n",
    "    print(n)\n",
    "    ie1 = None\n",
    "    ie1 = np.load(\"images/img_emb_\" + str(n) + \".npy\")\n",
    "    pca_features = np.float32(pca.transform(ie1))\n",
    "    ica_features = np.float32(ica.transform(ie1))\n",
    "    more_features = np.concatenate((pca_features, ica_features), axis=1)\n",
    "    labels = gmm.predict(more_features)\n",
    "    np.save(\"labels_\" + str(n) + \".npy\", labels)"
   ]
  }
 ],
 "metadata": {
  "kernelspec": {
   "display_name": "Python 3 (ipykernel)",
   "language": "python",
   "name": "python3"
  },
  "language_info": {
   "codemirror_mode": {
    "name": "ipython",
    "version": 3
   },
   "file_extension": ".py",
   "mimetype": "text/x-python",
   "name": "python",
   "nbconvert_exporter": "python",
   "pygments_lexer": "ipython3",
   "version": "3.8.8"
  }
 },
 "nbformat": 4,
 "nbformat_minor": 5
}
